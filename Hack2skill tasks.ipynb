{
 "cells": [
  {
   "cell_type": "markdown",
   "id": "2647f31f",
   "metadata": {},
   "source": [
    "# TASK 1\n"
   ]
  },
  {
   "cell_type": "code",
   "execution_count": 1,
   "id": "a12719f9",
   "metadata": {},
   "outputs": [
    {
     "name": "stdout",
     "output_type": "stream",
     "text": [
      "Requirement already satisfied: requests in c:\\users\\yesia\\anaconda3\\lib\\site-packages (2.31.0)\n",
      "Requirement already satisfied: beautifulsoup4 in c:\\users\\yesia\\anaconda3\\lib\\site-packages (4.12.2)\n",
      "Requirement already satisfied: charset-normalizer<4,>=2 in c:\\users\\yesia\\anaconda3\\lib\\site-packages (from requests) (2.0.4)\n",
      "Requirement already satisfied: idna<4,>=2.5 in c:\\users\\yesia\\anaconda3\\lib\\site-packages (from requests) (3.4)\n",
      "Requirement already satisfied: urllib3<3,>=1.21.1 in c:\\users\\yesia\\anaconda3\\lib\\site-packages (from requests) (1.26.16)\n",
      "Requirement already satisfied: certifi>=2017.4.17 in c:\\users\\yesia\\anaconda3\\lib\\site-packages (from requests) (2023.7.22)\n",
      "Requirement already satisfied: soupsieve>1.2 in c:\\users\\yesia\\anaconda3\\lib\\site-packages (from beautifulsoup4) (2.4)\n",
      "Note: you may need to restart the kernel to use updated packages.\n"
     ]
    }
   ],
   "source": [
    "pip install requests beautifulsoup4"
   ]
  },
  {
   "cell_type": "code",
   "execution_count": 2,
   "id": "e6299a2f",
   "metadata": {},
   "outputs": [],
   "source": [
    "import requests\n",
    "from bs4 import BeautifulSoup\n",
    "import csv\n",
    "import time\n",
    "import random"
   ]
  },
  {
   "cell_type": "code",
   "execution_count": 3,
   "id": "c21c1e75",
   "metadata": {},
   "outputs": [],
   "source": [
    "base_url = \"https://www.yellowpages.com/\""
   ]
  },
  {
   "cell_type": "code",
   "execution_count": 7,
   "id": "49c0deda",
   "metadata": {},
   "outputs": [],
   "source": [
    "def fetch_page(url):\n",
    "    try:\n",
    "        headers = {\n",
    "            \"User-Agent\": \"Mozilla/5.0 AppleWebKit/537.36 (KHTML, like Gecko) Chrome/58.0.3029.110 Safari/537.3\"\n",
    "        }\n",
    "        response = requests.get(url, headers=headers)\n",
    "    except requests.exceptions.RequestException as e:\n",
    "        print(f\"Error {url}: {e}\")\n",
    "        return None"
   ]
  },
  {
   "cell_type": "code",
   "execution_count": null,
   "id": "c4f96898",
   "metadata": {},
   "outputs": [],
   "source": [
    "def extractcompanydata(company_soup):\n",
    "        name = company_soup.find(\"h2\", class_=\"business-name\").get_text(strip=True)\n",
    "    except AttributeError:\n",
    "        name = \"N/A\"\n",
    "        website = company_soup.find(\"a\", class_=\"website-link\")[\"href\"]\n",
    "    \n",
    "    try:\n",
    "        email = company_soup.find(\"a\", class_=\"email-link\")[\"href\"].replace(\"mailto:\", \"\")\n",
    "    except TypeError:\n",
    "        email = \"N/A\"\n",
    "\n",
    "    return {\n",
    "        \"Company Name\": name,\n",
    "        \"Website URL\": website,\n",
    "        \"Contact Number\": contact number,\n",
    "        \"Location/Address\": addresses,\n",
    "        \"Industry/Category\": industry/category,\n",
    "        \"Description\": description/about,\n",
    "        \"Email Address\": emailid,\n",
    "    }\n",
    "\n",
    "def scrape_search_results():\n",
    "    companies_data = []\n",
    "\n",
    "    for page in range(1, 3):  \n",
    "        print(f\"Scraping page {page}...\")\n",
    "        html = fetch_page(search_url)\n",
    "        \n",
    "        if html:\n",
    "            soup = BeautifulSoup(html, \"html.parser\")\n",
    "            \n",
    "            company_listings = soup.find_all(\"div\", class_=\"search-item\")\n",
    "            for company in company_listings:\n",
    "                companies_data.append(company_data)\n",
    "            time.sleep(random.uniform(1, 3))  # Delay between 1 to 3 seconds\n",
    "\n",
    "    return companies_data\n",
    "\n",
    "def save_to_csv(companies_data):\n",
    "    csv_file = \"companies_data.csv\"\n",
    "    \n",
    "    fieldnames = [\n",
    "        \"Company Name\",\n",
    "        \"Website URL\",\n",
    "        \"Contact Number\",\n",
    "        \"Location/Address\",\n",
    "        \"Industry/Category\",\n",
    "        \"Description\",\n",
    "        \"Email Address\"\n",
    "    ]\n",
    "    \n",
    "    with open(csv_file, mode=\"w\", newline=\"\", encoding=\"utf-8\") as file:\n",
    "        writer = csv.DictWriter(file, fieldnames=fieldnames)\n",
    "        writer.writerows(companies_data)\n",
    "    \n",
    "    print(f\"Data saved to {csv_file}\")\n",
    "\n",
    "def main():\n",
    "    companies_data = scrape_search_results()\n",
    "    save_to_csv(companies_data)\n",
    "\n",
    "if __name__ == \"__main__\":\n",
    "    main()"
   ]
  }
 ],
 "metadata": {
  "kernelspec": {
   "display_name": "Python 3 (ipykernel)",
   "language": "python",
   "name": "python3"
  },
  "language_info": {
   "codemirror_mode": {
    "name": "ipython",
    "version": 3
   },
   "file_extension": ".py",
   "mimetype": "text/x-python",
   "name": "python",
   "nbconvert_exporter": "python",
   "pygments_lexer": "ipython3",
   "version": "3.11.5"
  }
 },
 "nbformat": 4,
 "nbformat_minor": 5
}
